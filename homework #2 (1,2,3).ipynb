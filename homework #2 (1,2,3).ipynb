{
 "cells": [
  {
   "cell_type": "code",
   "execution_count": 13,
   "metadata": {},
   "outputs": [
    {
     "name": "stdout",
     "output_type": "stream",
     "text": [
      "[[0.28152877 0.18237159 0.97879338 0.00168799 0.12717059 0.06263739]\n",
      " [0.61649169 0.19337104 0.05540718 0.55137878 0.21129576 0.40228203]\n",
      " [0.51660334 0.91402539 0.4158992  0.56477673 0.15076299 0.12606577]\n",
      " [0.60753511 0.58756555 0.57061995 0.75911457 0.89548548 0.48319902]\n",
      " [0.34733743 0.53501194 0.41729962 0.08033601 0.63886559 0.41454417]\n",
      " [0.06013097 0.50509853 0.59180764 0.74173659 0.80447271 0.86266168]]\n",
      "[  27.17717212   11.13236162   48.51597413 2312.51983927   19.13488595\n",
      "   56.92938889]\n"
     ]
    }
   ],
   "source": [
    "# 2 задача\n",
    "import numpy as np\n",
    "\n",
    "a=np.random.random((6, 6))\n",
    "print(a)\n",
    "print(a.sum(axis=1)/a.min(axis=0))\n",
    "\n",
    "\n",
    "\n",
    "\n",
    "\n",
    "\n",
    "\n",
    "\n",
    "\n"
   ]
  },
  {
   "cell_type": "code",
   "execution_count": 15,
   "metadata": {},
   "outputs": [
    {
     "name": "stdout",
     "output_type": "stream",
     "text": [
      "7\n"
     ]
    }
   ],
   "source": [
    "#3 задача\n",
    "import numpy as np\n",
    "x = np.array([6, 2, 0, 3, 0, 0, 5, 7, 0])\n",
    "y = np.where (x==0)[0]-1\n",
    "print(x[y].max())"
   ]
  },
  {
   "cell_type": "code",
   "execution_count": 31,
   "metadata": {},
   "outputs": [
    {
     "name": "stdout",
     "output_type": "stream",
     "text": [
      "[0.90314657 0.68413933 0.2705129  0.58661566 0.80288724 0.84579156\n",
      " 0.83286521 0.79466068 0.88856818 0.41491525]\n",
      "0.41491525293262976\n"
     ]
    }
   ],
   "source": [
    "# 1 задача\n",
    "import numpy as np\n",
    "\n",
    "def find_nearest(a, a0):\n",
    "    \"Element in nd array `a` closest to the scalar value `a0`\"\n",
    "    idx = np.abs(a - a0).argmin()\n",
    "    return a.flat[idx]\n",
    "\n",
    "\n",
    "\n",
    "array = np.random.random(10)\n",
    "print(array)\n",
    "value = 0.5\n",
    "print(find_nearest(array, value))\n"
   ]
  },
  {
   "cell_type": "code",
   "execution_count": null,
   "metadata": {},
   "outputs": [],
   "source": []
  },
  {
   "cell_type": "code",
   "execution_count": null,
   "metadata": {},
   "outputs": [],
   "source": []
  },
  {
   "cell_type": "code",
   "execution_count": null,
   "metadata": {},
   "outputs": [],
   "source": []
  },
  {
   "cell_type": "code",
   "execution_count": null,
   "metadata": {},
   "outputs": [],
   "source": []
  }
 ],
 "metadata": {
  "kernelspec": {
   "display_name": "Python 3",
   "language": "python",
   "name": "python3"
  },
  "language_info": {
   "codemirror_mode": {
    "name": "ipython",
    "version": 3
   },
   "file_extension": ".py",
   "mimetype": "text/x-python",
   "name": "python",
   "nbconvert_exporter": "python",
   "pygments_lexer": "ipython3",
   "version": "3.7.1"
  }
 },
 "nbformat": 4,
 "nbformat_minor": 2
}
