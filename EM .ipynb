{
 "cells": [
  {
   "cell_type": "code",
   "execution_count": 6,
   "metadata": {},
   "outputs": [],
   "source": [
    "import numpy as np\n",
    "from scipy.stats import binom\n",
    "\n",
    "t = np.array([7, 7, 1, 3, 2, 1, 5, 1, 4, 0, 2, 3, 3, 1, 2, 2, 3,\n",
    "              1, 4, 0, 8, 3, 5, 3, 0, 0, 7, 1, 1, 3, 1, 3, 2, 4, 1, 6, 2, 2, 4, 1, 3, 1, 1, 2, 7, 3, 3, 2, 2, 2])"
   ]
  },
  {
   "cell_type": "code",
   "execution_count": 10,
   "metadata": {},
   "outputs": [],
   "source": [
    "# E-шаг\n",
    "def e_step(data, M, mu1_step, mu2_step, pi1_step):\n",
    "    pi2_step = 1 - pi1_step\n",
    "    r_i1 = binom.pmf(data, M, mu1_step) * pi1_step / (binom.pmf(data, M, mu1_step) * pi1_step \n",
    "                                                    + binom.pmf(data, M, mu2_step) * pi2_step)\n",
    "    r_i2 = binom.pmf(data, M, mu2_step) * pi2_step / (binom.pmf(data, M, mu1_step) * pi1_step \n",
    "                                                    + binom.pmf(data, M, mu2_step) * pi2_step)\n",
    "    return r_i1, r_i2"
   ]
  },
  {
   "cell_type": "code",
   "execution_count": 11,
   "metadata": {},
   "outputs": [],
   "source": [
    "# M-шаг\n",
    "def m_step(data, M, r1, r2):\n",
    "    pi1_new = sum(r1) / len(data)\n",
    "    pi2_new = 1 - pi1_new\n",
    "    mu1_new = sum(data * r1) / (M * sum(r1))\n",
    "    mu2_new = sum(data * r2) / (M * sum(r2))\n",
    "\n",
    "    return pi1_new, pi2_new, mu1_new, mu2_new"
   ]
  },
  {
   "cell_type": "code",
   "execution_count": 34,
   "metadata": {},
   "outputs": [],
   "source": [
    "# Задаем случайным образом параметры и останавливаем процесс, когда оценки параметров перестают изменяться значимо.\n",
    "def em_coins(data, M = 10, mu1 = None, mu2 = None, pi1 = None, eps = .0005):\n",
    "    mu1 = mu1 or np.random.random()\n",
    "    mu2 = mu2 or np.random.random()\n",
    "    pi1 = pi1 or np.random.random()\n",
    "    pi2 = 1 - pi1\n",
    "    k = 0\n",
    "    print(\"Начальные параметры: pi1 = %0.3f,  pi2 = %0.3f,  mu1 = %0.3f,  mu2 = %0.3f\\n\" % (pi1, pi2, mu1, mu2))\n",
    "    print(\"№ Шага\\t  pi1     pi2     mu1     mu2\")\n",
    "    while True:\n",
    "        r1, r2 = e_step(data, M, mu1, mu2, pi1)\n",
    "        pi1_new, pi2_new, mu1_new, mu2_new = m_step(data, M, r1, r2)\n",
    "        print(\"#%d:\\t  %0.3f   %0.3f   %0.3f   %0.3f\" % (k, pi1_new, pi2_new, mu1_new, mu2_new))\n",
    "        k = k + 1\n",
    "        if np.sqrt((mu1 - mu1_new)**2 + (mu2 - mu2_new)**2 + 2 * (pi1 - pi1_new)**2) < eps:\n",
    "            break\n",
    "            \n",
    "        mu1, mu2, pi1 = mu1_new, mu2_new, pi1_new\n",
    "    print(\"Конец алгоритма после %d шага\" % k)"
   ]
  },
  {
   "cell_type": "code",
   "execution_count": 35,
   "metadata": {},
   "outputs": [
    {
     "name": "stdout",
     "output_type": "stream",
     "text": [
      "Начальные параметры: pi1 = 0.462,  pi2 = 0.538,  mu1 = 0.877,  mu2 = 0.063\n",
      "\n",
      "№ Шага\t  pi1     pi2     mu1     mu2\n",
      "#0:\t  0.169   0.831   0.635   0.196\n",
      "#1:\t  0.161   0.839   0.629   0.201\n",
      "#2:\t  0.158   0.842   0.632   0.202\n",
      "#3:\t  0.156   0.844   0.634   0.203\n",
      "#4:\t  0.155   0.845   0.636   0.203\n",
      "#5:\t  0.154   0.846   0.637   0.203\n",
      "#6:\t  0.154   0.846   0.637   0.203\n",
      "#7:\t  0.153   0.847   0.638   0.203\n",
      "#8:\t  0.153   0.847   0.638   0.204\n",
      "Конец алгоритма после 9 шага\n"
     ]
    }
   ],
   "source": [
    "em_coins(t)"
   ]
  },
  {
   "cell_type": "code",
   "execution_count": null,
   "metadata": {},
   "outputs": [],
   "source": []
  }
 ],
 "metadata": {
  "kernelspec": {
   "display_name": "Python 3",
   "language": "python",
   "name": "python3"
  },
  "language_info": {
   "codemirror_mode": {
    "name": "ipython",
    "version": 3
   },
   "file_extension": ".py",
   "mimetype": "text/x-python",
   "name": "python",
   "nbconvert_exporter": "python",
   "pygments_lexer": "ipython3",
   "version": "3.7.1"
  }
 },
 "nbformat": 4,
 "nbformat_minor": 2
}
