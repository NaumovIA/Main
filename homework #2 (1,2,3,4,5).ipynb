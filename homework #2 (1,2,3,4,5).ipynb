{
 "cells": [
  {
   "cell_type": "code",
   "execution_count": 13,
   "metadata": {},
   "outputs": [
    {
     "name": "stdout",
     "output_type": "stream",
     "text": [
      "[[0.28152877 0.18237159 0.97879338 0.00168799 0.12717059 0.06263739]\n",
      " [0.61649169 0.19337104 0.05540718 0.55137878 0.21129576 0.40228203]\n",
      " [0.51660334 0.91402539 0.4158992  0.56477673 0.15076299 0.12606577]\n",
      " [0.60753511 0.58756555 0.57061995 0.75911457 0.89548548 0.48319902]\n",
      " [0.34733743 0.53501194 0.41729962 0.08033601 0.63886559 0.41454417]\n",
      " [0.06013097 0.50509853 0.59180764 0.74173659 0.80447271 0.86266168]]\n",
      "[  27.17717212   11.13236162   48.51597413 2312.51983927   19.13488595\n",
      "   56.92938889]\n"
     ]
    }
   ],
   "source": [
    "# 2 задача\n",
    "import numpy as np\n",
    "\n",
    "a=np.random.random((6, 6))\n",
    "print(a)\n",
    "print(a.sum(axis=1)/a.min(axis=0))\n",
    "\n",
    "\n",
    "\n",
    "\n",
    "\n",
    "\n",
    "\n",
    "\n",
    "\n"
   ]
  },
  {
   "cell_type": "code",
   "execution_count": 15,
   "metadata": {},
   "outputs": [
    {
     "name": "stdout",
     "output_type": "stream",
     "text": [
      "7\n"
     ]
    }
   ],
   "source": [
    "#3 задача\n",
    "import numpy as np\n",
    "x = np.array([6, 2, 0, 3, 0, 0, 5, 7, 0])\n",
    "y = np.where (x==0)[0]-1\n",
    "print(x[y].max())"
   ]
  },
  {
   "cell_type": "code",
   "execution_count": 2,
   "metadata": {},
   "outputs": [
    {
     "name": "stdout",
     "output_type": "stream",
     "text": [
      "[[0.13374266 0.5280255  0.26675273]\n",
      " [0.46385296 0.80850334 0.19801475]\n",
      " [0.19300559 0.07741552 0.36769675]\n",
      " [0.81179516 0.2969073  0.27063114]\n",
      " [0.93886168 0.44499955 0.67547765]\n",
      " [0.11150753 0.54505137 0.13503853]\n",
      " [0.50403753 0.84770998 0.39633201]\n",
      " [0.74982593 0.85127942 0.83258168]\n",
      " [0.47829932 0.56646599 0.93706294]\n",
      " [0.36383235 0.30544407 0.27846853]]\n",
      "0.5040375261113215\n"
     ]
    }
   ],
   "source": [
    "# 1 задача\n",
    "import numpy as np\n",
    "\n",
    "def find_nearest(a, a0):\n",
    "    \"Element in nd array `a` closest to the scalar value `a0`\"\n",
    "    idx = np.abs(a - a0).argmin()\n",
    "    return a.flat[idx]\n",
    "\n",
    "\n",
    "\n",
    "array = np.random.random((10,3))\n",
    "print(array)\n",
    "value = 0.5\n",
    "print(find_nearest(array, value))\n"
   ]
  },
  {
   "cell_type": "code",
   "execution_count": 3,
   "metadata": {},
   "outputs": [
    {
     "name": "stdout",
     "output_type": "stream",
     "text": [
      "[[0.58089711 0.76126648 0.71363047]\n",
      " [0.8600427  0.5932688  0.41082223]\n",
      " [0.01453731 0.91089844 0.48713819]\n",
      " [0.18799368 0.41821503 0.20610844]\n",
      " [0.50742628 0.50397771 0.6942207 ]\n",
      " [0.25253632 0.36989707 0.75624686]\n",
      " [0.71075619 0.30875047 0.42784513]\n",
      " [0.91322463 0.72684857 0.10325557]\n",
      " [0.84057616 0.73111325 0.56976276]\n",
      " [0.61329198 0.70948283 0.93497718]]\n",
      "[0.5808971133968946, 0.4108222344862287, 0.4871381926774331, 0.4182150305268154, 0.5039777078935495, 0.36989706878955864, 0.42784513496567234, 0.7268485745774917, 0.5697627622373116, 0.613291980347234]\n"
     ]
    }
   ],
   "source": [
    "#1 задача с for\n",
    "import numpy as np\n",
    "\n",
    "x1 = np.random.random([10,3])\n",
    "print(x1)\n",
    "\n",
    "c05 = [a[np.abs(a-0.5).argmin()] for a in x1]\n",
    "print(c05)"
   ]
  },
  {
   "cell_type": "code",
   "execution_count": 18,
   "metadata": {},
   "outputs": [
    {
     "name": "stdout",
     "output_type": "stream",
     "text": [
      "[1. 1. 1. 1. 1. 1. 1. 1. 1. 1.]\n",
      "[0 1 2 3 5 5 5 8]\n",
      "0\n",
      "0\n",
      "[2. 1. 1. 1. 1. 1. 1. 1. 1. 1.]\n",
      "1\n",
      "[2. 2. 1. 1. 1. 1. 1. 1. 1. 1.]\n",
      "2\n",
      "[2. 2. 2. 1. 1. 1. 1. 1. 1. 1.]\n",
      "3\n",
      "[2. 2. 2. 2. 1. 1. 1. 1. 1. 1.]\n",
      "5\n",
      "[2. 2. 2. 2. 1. 2. 1. 1. 1. 1.]\n",
      "5\n",
      "[2. 2. 2. 2. 1. 3. 1. 1. 1. 1.]\n",
      "5\n",
      "[2. 2. 2. 2. 1. 4. 1. 1. 1. 1.]\n",
      "8\n",
      "[2. 2. 2. 2. 1. 4. 1. 1. 2. 1.]\n",
      "[2. 2. 2. 2. 1. 4. 1. 1. 2. 1.]\n"
     ]
    }
   ],
   "source": [
    "#4 задача\n",
    "import numpy as np\n",
    "\n",
    "x = np.ones(10)\n",
    "print(x)\n",
    "i = np.array([0, 1, 2, 3, 5, 5, 5, 8])\n",
    "print(i)\n",
    "j = int(0)\n",
    "print(j)\n",
    "index = int(0)\n",
    "\n",
    "while j < 8:\n",
    "    index = i[j]\n",
    "    print(index)\n",
    "    x[index] += 1\n",
    "    print(x)\n",
    "    j += 1\n",
    "    \n",
    "print(x)\n",
    "\n",
    "\n"
   ]
  },
  {
   "cell_type": "code",
   "execution_count": 22,
   "metadata": {},
   "outputs": [
    {
     "name": "stdout",
     "output_type": "stream",
     "text": [
      "[[ 0  1  2  3]\n",
      " [ 4  5  6  7]\n",
      " [ 8  9 10 11]\n",
      " [12 13 14 15]]\n"
     ]
    }
   ],
   "source": [
    "import numpy as np\n",
    "a = np.arange(16).reshape(4, 4)\n",
    "print(a)"
   ]
  },
  {
   "cell_type": "code",
   "execution_count": 110,
   "metadata": {},
   "outputs": [
    {
     "name": "stdout",
     "output_type": "stream",
     "text": [
      "{ 0 :[0 ], 1 :[1 4 ], 2 :[2 5 8 ], 3 :[3 6 9 12 ], 4 :[7 10 13 ], 5 :[11 14 ], 6 :[15 ] }"
     ]
    }
   ],
   "source": [
    "#5 задача\n",
    "\n",
    "import numpy as np\n",
    "\n",
    "a = np.arange(16).reshape(4, 4)\n",
    "i = int(0)\n",
    "j = int(0)\n",
    "n = int(0)\n",
    "t = int(0)\n",
    "print(\"{ \", end = \"\")\n",
    "\n",
    "while n < 7:\n",
    "    print(n,\":\", end = \"\")\n",
    "    print(\"[\", end = \"\")\n",
    "    while i < 4:\n",
    "        while j < 4:\n",
    "            if (i == (n - j)):\n",
    "                print(a[i,j], end = \" \")   \n",
    "            j += 1\n",
    "        i += 1\n",
    "        j = 0\n",
    "    print(\"]\", end = \"\")\n",
    "    print( \",\" if n != 6 else \"\" , end = \" \")\n",
    "    n += 1\n",
    "    i = 0\n",
    "    \n",
    "print(\"}\", end = \"\")"
   ]
  },
  {
   "cell_type": "code",
   "execution_count": null,
   "metadata": {},
   "outputs": [],
   "source": []
  },
  {
   "cell_type": "code",
   "execution_count": null,
   "metadata": {},
   "outputs": [],
   "source": []
  }
 ],
 "metadata": {
  "kernelspec": {
   "display_name": "Python 3",
   "language": "python",
   "name": "python3"
  },
  "language_info": {
   "codemirror_mode": {
    "name": "ipython",
    "version": 3
   },
   "file_extension": ".py",
   "mimetype": "text/x-python",
   "name": "python",
   "nbconvert_exporter": "python",
   "pygments_lexer": "ipython3",
   "version": "3.7.1"
  }
 },
 "nbformat": 4,
 "nbformat_minor": 2
}
