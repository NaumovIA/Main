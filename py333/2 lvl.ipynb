{
 "cells": [
  {
   "cell_type": "code",
   "execution_count": 7,
   "metadata": {},
   "outputs": [
    {
     "name": "stdout",
     "output_type": "stream",
     "text": [
      "Please choose a number to divide: 12345\n",
      "[1, 3, 5, 15, 823, 2469, 4115, 12345]\n"
     ]
    }
   ],
   "source": [
    "num = int(input(\"Please choose a number to divide: \"))\n",
    "\n",
    "listRange = list(range(1,num+1))\n",
    "\n",
    "divisorList = []\n",
    "\n",
    "for number in listRange:\n",
    "    if num % number == 0:\n",
    "        divisorList.append(number)\n",
    "\n",
    "print(divisorList)"
   ]
  },
  {
   "cell_type": "code",
   "execution_count": null,
   "metadata": {},
   "outputs": [],
   "source": []
  },
  {
   "cell_type": "code",
   "execution_count": null,
   "metadata": {},
   "outputs": [],
   "source": []
  }
 ],
 "metadata": {
  "kernelspec": {
   "display_name": "Python 3",
   "language": "python",
   "name": "python3"
  },
  "language_info": {
   "codemirror_mode": {
    "name": "ipython",
    "version": 3
   },
   "file_extension": ".py",
   "mimetype": "text/x-python",
   "name": "python",
   "nbconvert_exporter": "python",
   "pygments_lexer": "ipython3",
   "version": "3.7.1"
  }
 },
 "nbformat": 4,
 "nbformat_minor": 2
}
